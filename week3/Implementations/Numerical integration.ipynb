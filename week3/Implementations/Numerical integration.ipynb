{
 "cells": [
  {
   "cell_type": "markdown",
   "id": "205e6de8",
   "metadata": {},
   "source": [
    "# Numerical Integration "
   ]
  },
  {
   "cell_type": "markdown",
   "id": "7352b600",
   "metadata": {},
   "source": [
    "### I will integrate a sine function "
   ]
  },
  {
   "cell_type": "code",
   "execution_count": 70,
   "id": "380d458a",
   "metadata": {},
   "outputs": [
    {
     "data": {
      "text/plain": [
       "[<matplotlib.lines.Line2D at 0xffff7015d790>]"
      ]
     },
     "execution_count": 70,
     "metadata": {},
     "output_type": "execute_result"
    },
    {
     "data": {
      "image/png": "[encoded data removed]",
      "text/plain": [
       "<Figure size 432x288 with 1 Axes>"
      ]
     },
     "metadata": {
      "needs_background": "light"
     },
     "output_type": "display_data"
    }
   ],
   "source": [
    "import numpy as np\n",
    "import matplotlib.pyplot as plt\n",
    "from matplotlib.patches import StepPatch\n",
    "\n",
    "a = 0\n",
    "b = 10\n",
    "dx = 0.1\n",
    "\n",
    "x = np.arange(a,b, dx)\n",
    "f = np.sin(x)\n",
    "\n",
    "n = len(f)\n",
    "plt.step(x,f,'k')"
   ]
  },
  {
   "cell_type": "markdown",
   "id": "715584f6",
   "metadata": {},
   "source": [
    "## Left Rectangule"
   ]
  },
  {
   "cell_type": "code",
   "execution_count": 65,
   "id": "e942db5f",
   "metadata": {},
   "outputs": [
    {
     "name": "stdout",
     "output_type": "stream",
     "text": [
      "1.9104933589034567\n"
     ]
    }
   ],
   "source": [
    "areaLR = 0\n",
    "\n",
    "# Adding up the areas of rectangles to area1\n",
    "\n",
    "for i in range(1,n-1):\n",
    "    areaLR = areaLR + dx*f[i]\n",
    "    \n",
    "print(areaLR)"
   ]
  },
  {
   "cell_type": "markdown",
   "id": "45543319",
   "metadata": {},
   "source": [
    "## Right Rectangle"
   ]
  },
  {
   "cell_type": "code",
   "execution_count": 71,
   "id": "2d1e47fa",
   "metadata": {},
   "outputs": [
    {
     "name": "stdout",
     "output_type": "stream",
     "text": [
      "1.8547564278612414\n"
     ]
    }
   ],
   "source": [
    "areaRR = 0\n",
    "\n",
    "# Adding up the areas of rectangles to area1\n",
    "\n",
    "for i in range(2,n):\n",
    "    areaRR = areaRR + dx*f[i]\n",
    "    \n",
    "print(areaRR)"
   ]
  },
  {
   "cell_type": "markdown",
   "id": "58ede980",
   "metadata": {},
   "source": [
    "## Trapezoidal Integration"
   ]
  },
  {
   "cell_type": "code",
   "execution_count": 72,
   "id": "388ed34c",
   "metadata": {},
   "outputs": [
    {
     "name": "stdout",
     "output_type": "stream",
     "text": [
      "1.8826248933823484\n"
     ]
    }
   ],
   "source": [
    "areaTZ = 0 \n",
    "\n",
    "for i in range(1,n-1):\n",
    "    areaTZ = areaTZ + (dx/2)*(f[i]+f[i+1])\n",
    "    \n",
    "print(areaTZ)"
   ]
  },
  {
   "cell_type": "markdown",
   "id": "5327563d",
   "metadata": {},
   "source": [
    "#### We can notice that the value of the Trapezoidal integration is approximately the averge of LR and RR."
   ]
  },
  {
   "cell_type": "markdown",
   "id": "fac644e6",
   "metadata": {},
   "source": [
    "## If we took smaller values of dx, we would have more accurate predictions of these integrals"
   ]
  },
  {
   "cell_type": "code",
   "execution_count": 80,
   "id": "9e6c8363",
   "metadata": {},
   "outputs": [
    {
     "name": "stdout",
     "output_type": "stream",
     "text": [
      "1.8398865681434267\n",
      "1.8393423863761038\n",
      "1.8396144772597605\n"
     ]
    }
   ],
   "source": [
    "import numpy as np\n",
    "import matplotlib.pyplot as plt\n",
    "from matplotlib.patches import StepPatch\n",
    "\n",
    "a = 0\n",
    "b = 10\n",
    "dx = 0.001\n",
    "\n",
    "x = np.arange(a,b, dx)\n",
    "f = np.sin(x)\n",
    "\n",
    "n = len(f)\n",
    "\n",
    "areaLR = 0\n",
    "\n",
    "# Adding up the areas of rectangles to area1\n",
    "\n",
    "for i in range(1,n-1):\n",
    "    areaLR = areaLR + dx*f[i]\n",
    "    \n",
    "print(areaLR)\n",
    "\n",
    "areaRR = 0\n",
    "\n",
    "# Adding up the areas of rectangles to area1\n",
    "\n",
    "for i in range(2,n):\n",
    "    areaRR = areaRR + dx*f[i]\n",
    "    \n",
    "print(areaRR)\n",
    "\n",
    "areaTZ = 0 \n",
    "\n",
    "for i in range(1,n-1):\n",
    "    areaTZ = areaTZ + (dx/2)*(f[i]+f[i+1])\n",
    "    \n",
    "print(areaTZ)"
   ]
  },
  {
   "cell_type": "markdown",
   "id": "8ce178b1",
   "metadata": {},
   "source": [
    "#### The areaTZ is pretty close to the previous one, which means it is more accurate."
   ]
  },
  {
   "cell_type": "code",
   "execution_count": 82,
   "id": "d1106f32",
   "metadata": {},
   "outputs": [
    {
     "name": "stdout",
     "output_type": "stream",
     "text": [
      "1.8396149772596782\n"
     ]
    }
   ],
   "source": [
    "area3 = np.trapz(f,x)\n",
    "print(area3)"
   ]
  }
 ],
 "metadata": {
  "kernelspec": {
   "display_name": "Python 3 (ipykernel)",
   "language": "python",
   "name": "python3"
  },
  "language_info": {
   "codemirror_mode": {
    "name": "ipython",
    "version": 3
   },
   "file_extension": ".py",
   "mimetype": "text/x-python",
   "name": "python",
   "nbconvert_exporter": "python",
   "pygments_lexer": "ipython3",
   "version": "3.8.10"
  }
 },
 "nbformat": 4,
 "nbformat_minor": 5
}
