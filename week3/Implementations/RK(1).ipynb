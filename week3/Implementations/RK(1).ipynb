{
 "cells": [
  {
   "cell_type": "markdown",
   "id": "f5fa773e",
   "metadata": {},
   "source": [
    "# Runge-Kutta Method for Second and Fourth Order Differential Equations \n",
    "\n",
    "This is a simple implementation of the Runge-Kutta method for initial value problems of the second and fourth order. \n",
    "\n",
    "### Given an ODE and an initial value, find the time and the Runge Kutta numerical approximation, and then plot the results. \n",
    "\n",
    "$$\n",
    "y\\prime = 4y^2 - sin(3y)\n",
    "$$\n",
    "\n",
    "for $$ 0 \\le t \\le 10$$ and $$ y(0) = -5$$\n",
    "\n",
    "**Approach**:\n",
    "This method approximates the values of y at a particular time t. It should be noted, however, that 2nd order RK is only applicable to first order ODEs. \n",
    "\n",
    "After importing the necessary libraries for our work, the time discretized points with h=0.05 are depicted below."
   ]
  },
  {
   "cell_type": "code",
   "execution_count": 57,
   "id": "f162da3a",
   "metadata": {},
   "outputs": [],
   "source": [
    "# Import Needed Libraries\n",
    "import numpy as np\n",
    "import math \n",
    "import pandas as pd\n",
    "%matplotlib inline\n",
    "import matplotlib.pyplot as plt \n",
    "import matplotlib.gridspec as gridspec \n"
   ]
  },
  {
   "cell_type": "code",
   "execution_count": 58,
   "id": "390873c2",
   "metadata": {},
   "outputs": [
    {
     "data": {
      "image/png": "[encoded data removed]",
      "text/plain": [
       "<Figure size 1440x144 with 1 Axes>"
      ]
     },
     "metadata": {
      "needs_background": "light"
     },
     "output_type": "display_data"
    }
   ],
   "source": [
    "N=200\n",
    "t_end=10.0\n",
    "t_start=0.0\n",
    "h=((t_end-t_start)/N)\n",
    "t=np.arange(t_start,t_end+h/2,h)\n",
    "fig = plt.figure(figsize=(20,2))\n",
    "plt.plot(t,0*t,'x:',color='blue')\n",
    "plt.title('Time Discretized Points with h=%s'%(h))\n",
    "plt.show()"
   ]
  },
  {
   "cell_type": "markdown",
   "id": "447d5b82",
   "metadata": {},
   "source": [
    "## Define the Function\n",
    "\n",
    "Before going any further, we need to define our function $$f(t,y) = 4y^2 - sin(3y).$$\n"
   ]
  },
  {
   "cell_type": "code",
   "execution_count": 72,
   "id": "5ce84ba7",
   "metadata": {},
   "outputs": [],
   "source": [
    "def myfun(t,y):\n",
    "    fty=4*y*y-np.sin(3*y*y)\n",
    "    return fty"
   ]
  },
  {
   "cell_type": "markdown",
   "id": "e0c3d75a",
   "metadata": {},
   "source": [
    "## Time Interval Discretization and Initial conditions\n",
    "\n",
    "The time interval $ 0 \\le t \\le 10$ is descrtized into $N$ points seperated by a constant stepsize $$ h = \\frac{b-a}{N}.$$\n",
    "In our case, $$ h = \\frac{10 - 0}{200} = 0.05.$$\n",
    "Which gives 101 discrete points: $t_0$ = 0, $t_1$ = 0.05, ..., $t_{200}$=10.\n",
    "$$ t_i = i 0.05, i = 0, 1, ..., 200.$$\n",
    "\n",
    "The initial condition: $$ y(0) = y_0 = -5.$$\n",
    "\n",
    "## 2nd Order Runge Kutta\n",
    "\n",
    "$$ K_1 = f(t_i,y_i)$$\n",
    "$$ K_2 = f(t_i+h, y_i+hk_1)$$\n",
    "$$ y_{i+1} = y_i + \\frac{h}{2}(k_1+k_2). $$"
   ]
  },
  {
   "cell_type": "code",
   "execution_count": 73,
   "id": "c42b9bec",
   "metadata": {},
   "outputs": [],
   "source": [
    "y=np.zeros(N+1)\n",
    "y[0]=-5\n",
    "## 2nd Order Runge Kutta\n",
    "for k in range (0,N):\n",
    "    k1=myfun(t[k],y[k])\n",
    "    k2=myfun(t[k]+h,y[k]+h*k1)\n",
    "    y[k+1]=y[k]+h/2*(k1+k2)\n",
    "    "
   ]
  },
  {
   "cell_type": "markdown",
   "id": "7f171f31",
   "metadata": {},
   "source": [
    "## Plotting Results"
   ]
  },
  {
   "cell_type": "code",
   "execution_count": 74,
   "id": "5ab809c3",
   "metadata": {},
   "outputs": [
    {
     "data": {
      "text/html": [
       "<div>\n",
       "<style scoped>\n",
       "    .dataframe tbody tr th:only-of-type {\n",
       "        vertical-align: middle;\n",
       "    }\n",
       "\n",
       "    .dataframe tbody tr th {\n",
       "        vertical-align: top;\n",
       "    }\n",
       "\n",
       "    .dataframe thead th {\n",
       "        text-align: right;\n",
       "    }\n",
       "</style>\n",
       "<table border=\"1\" class=\"dataframe\">\n",
       "  <thead>\n",
       "    <tr style=\"text-align: right;\">\n",
       "      <th></th>\n",
       "      <th>time i</th>\n",
       "      <th>R-K</th>\n",
       "    </tr>\n",
       "  </thead>\n",
       "  <tbody>\n",
       "    <tr>\n",
       "      <th>0</th>\n",
       "      <td>0.00</td>\n",
       "      <td>-5.000000</td>\n",
       "    </tr>\n",
       "    <tr>\n",
       "      <th>1</th>\n",
       "      <td>0.05</td>\n",
       "      <td>-2.490296</td>\n",
       "    </tr>\n",
       "    <tr>\n",
       "      <th>2</th>\n",
       "      <td>0.10</td>\n",
       "      <td>-1.686015</td>\n",
       "    </tr>\n",
       "    <tr>\n",
       "      <th>3</th>\n",
       "      <td>0.15</td>\n",
       "      <td>-1.268394</td>\n",
       "    </tr>\n",
       "    <tr>\n",
       "      <th>4</th>\n",
       "      <td>0.20</td>\n",
       "      <td>-1.018856</td>\n",
       "    </tr>\n",
       "    <tr>\n",
       "      <th>5</th>\n",
       "      <td>0.25</td>\n",
       "      <td>-0.872626</td>\n",
       "    </tr>\n",
       "    <tr>\n",
       "      <th>6</th>\n",
       "      <td>0.30</td>\n",
       "      <td>-0.782608</td>\n",
       "    </tr>\n",
       "    <tr>\n",
       "      <th>7</th>\n",
       "      <td>0.35</td>\n",
       "      <td>-0.720248</td>\n",
       "    </tr>\n",
       "    <tr>\n",
       "      <th>8</th>\n",
       "      <td>0.40</td>\n",
       "      <td>-0.673243</td>\n",
       "    </tr>\n",
       "    <tr>\n",
       "      <th>9</th>\n",
       "      <td>0.45</td>\n",
       "      <td>-0.635753</td>\n",
       "    </tr>\n",
       "  </tbody>\n",
       "</table>\n",
       "</div>"
      ],
      "text/plain": [
       "   time i       R-K\n",
       "0    0.00 -5.000000\n",
       "1    0.05 -2.490296\n",
       "2    0.10 -1.686015\n",
       "3    0.15 -1.268394\n",
       "4    0.20 -1.018856\n",
       "5    0.25 -0.872626\n",
       "6    0.30 -0.782608\n",
       "7    0.35 -0.720248\n",
       "8    0.40 -0.673243\n",
       "9    0.45 -0.635753"
      ]
     },
     "execution_count": 74,
     "metadata": {},
     "output_type": "execute_result"
    }
   ],
   "source": [
    "d = {'time i': t[0:10], \n",
    "     'R-K':y[0:10]}\n",
    "df = pd.DataFrame(data=d)\n",
    "df"
   ]
  },
  {
   "cell_type": "code",
   "execution_count": 75,
   "id": "27eebcab",
   "metadata": {},
   "outputs": [
    {
     "data": {
      "image/png": "[encoded data removed]",
      "text/plain": [
       "<Figure size 576x288 with 1 Axes>"
      ]
     },
     "metadata": {
      "needs_background": "light"
     },
     "output_type": "display_data"
    }
   ],
   "source": [
    "fig = plt.figure(figsize=(8,4))\n",
    "plt.plot(t,w,'.-',color='pink',label='Runge Kutta')\n",
    "plt.legend(loc='best')\n",
    "plt.show()"
   ]
  },
  {
   "cell_type": "markdown",
   "id": "9e11a4b4",
   "metadata": {},
   "source": [
    "## 4th Order Runge Kutta\n",
    "\n",
    "$$ k_1 = f(t,y), $$\n",
    "$$ k_2 = f(t+\\frac{h}{2}, y+\\frac{h}{2}k_1),$$\n",
    "$$ k_3 = f(t+\\frac{h}{2}, y+\\frac{h}{2}k_2),$$\n",
    "$$ k_4 = f(t+\\frac{h}{2}, y+\\frac{h}{2}k_3),$$\n",
    "$$ y_{i+1}= y_i+\\frac{h}{6} (k_1+2k_2+2k_3+k_4).$$"
   ]
  },
  {
   "cell_type": "code",
   "execution_count": 76,
   "id": "d61c166d",
   "metadata": {},
   "outputs": [],
   "source": [
    "for k in range (0,N):\n",
    "    k1=myfun(t[k],y[k])\n",
    "    k2=myfun(t[k]+h/2,y[k]+h/2*k1)\n",
    "    k3=myfun(t[k]+h/2,y[k]+h/2*k2)\n",
    "    k4=myfun(t[k]+h,y[k]+h*k3)\n",
    "    y[k+1]=y[k]+h/6*(k1+2*k2+2*k3+k4)"
   ]
  },
  {
   "cell_type": "code",
   "execution_count": 98,
   "id": "10610f21",
   "metadata": {},
   "outputs": [],
   "source": [
    "# Initial Condition\n",
    "IC= -5\n",
    "y=np.zeros(N+1)\n",
    "z=(IC+1)*np.exp(-t)+t-1"
   ]
  },
  {
   "cell_type": "code",
   "execution_count": 99,
   "id": "28b05932",
   "metadata": {},
   "outputs": [
    {
     "data": {
      "text/html": [
       "<div>\n",
       "<style scoped>\n",
       "    .dataframe tbody tr th:only-of-type {\n",
       "        vertical-align: middle;\n",
       "    }\n",
       "\n",
       "    .dataframe tbody tr th {\n",
       "        vertical-align: top;\n",
       "    }\n",
       "\n",
       "    .dataframe thead th {\n",
       "        text-align: right;\n",
       "    }\n",
       "</style>\n",
       "<table border=\"1\" class=\"dataframe\">\n",
       "  <thead>\n",
       "    <tr style=\"text-align: right;\">\n",
       "      <th></th>\n",
       "      <th>time t</th>\n",
       "      <th>4th R-K, y i</th>\n",
       "      <th>Error |y-z|</th>\n",
       "    </tr>\n",
       "  </thead>\n",
       "  <tbody>\n",
       "    <tr>\n",
       "      <th>0</th>\n",
       "      <td>0.00</td>\n",
       "      <td>0.0</td>\n",
       "      <td>5.00000</td>\n",
       "    </tr>\n",
       "    <tr>\n",
       "      <th>1</th>\n",
       "      <td>0.05</td>\n",
       "      <td>0.0</td>\n",
       "      <td>2.42621</td>\n",
       "    </tr>\n",
       "    <tr>\n",
       "      <th>2</th>\n",
       "      <td>0.10</td>\n",
       "      <td>0.0</td>\n",
       "      <td>1.63787</td>\n",
       "    </tr>\n",
       "    <tr>\n",
       "      <th>3</th>\n",
       "      <td>0.15</td>\n",
       "      <td>0.0</td>\n",
       "      <td>1.22305</td>\n",
       "    </tr>\n",
       "    <tr>\n",
       "      <th>4</th>\n",
       "      <td>0.20</td>\n",
       "      <td>0.0</td>\n",
       "      <td>0.97167</td>\n",
       "    </tr>\n",
       "    <tr>\n",
       "      <th>...</th>\n",
       "      <td>...</td>\n",
       "      <td>...</td>\n",
       "      <td>...</td>\n",
       "    </tr>\n",
       "    <tr>\n",
       "      <th>196</th>\n",
       "      <td>9.80</td>\n",
       "      <td>0.0</td>\n",
       "      <td>0.08901</td>\n",
       "    </tr>\n",
       "    <tr>\n",
       "      <th>197</th>\n",
       "      <td>9.85</td>\n",
       "      <td>0.0</td>\n",
       "      <td>0.08862</td>\n",
       "    </tr>\n",
       "    <tr>\n",
       "      <th>198</th>\n",
       "      <td>9.90</td>\n",
       "      <td>0.0</td>\n",
       "      <td>0.08823</td>\n",
       "    </tr>\n",
       "    <tr>\n",
       "      <th>199</th>\n",
       "      <td>9.95</td>\n",
       "      <td>0.0</td>\n",
       "      <td>0.08784</td>\n",
       "    </tr>\n",
       "    <tr>\n",
       "      <th>200</th>\n",
       "      <td>10.00</td>\n",
       "      <td>0.0</td>\n",
       "      <td>0.08746</td>\n",
       "    </tr>\n",
       "  </tbody>\n",
       "</table>\n",
       "<p>201 rows × 3 columns</p>\n",
       "</div>"
      ],
      "text/plain": [
       "     time t  4th R-K, y i  Error |y-z|\n",
       "0      0.00           0.0      5.00000\n",
       "1      0.05           0.0      2.42621\n",
       "2      0.10           0.0      1.63787\n",
       "3      0.15           0.0      1.22305\n",
       "4      0.20           0.0      0.97167\n",
       "..      ...           ...          ...\n",
       "196    9.80           0.0      0.08901\n",
       "197    9.85           0.0      0.08862\n",
       "198    9.90           0.0      0.08823\n",
       "199    9.95           0.0      0.08784\n",
       "200   10.00           0.0      0.08746\n",
       "\n",
       "[201 rows x 3 columns]"
      ]
     },
     "execution_count": 99,
     "metadata": {},
     "output_type": "execute_result"
    }
   ],
   "source": [
    "\n",
    "import pandas as pd\n",
    "d = {'time t': t, '4th R-K, y i': y,'Error |y-z|':np.round(np.abs(y-w),5)}\n",
    "df = pd.DataFrame(data=d)\n",
    "df"
   ]
  },
  {
   "cell_type": "code",
   "execution_count": 103,
   "id": "0d4b6d16",
   "metadata": {},
   "outputs": [
    {
     "data": {
      "image/png": "[encoded data removed]",
      "text/plain": [
       "<Figure size 720x288 with 2 Axes>"
      ]
     },
     "metadata": {
      "needs_background": "light"
     },
     "output_type": "display_data"
    }
   ],
   "source": [
    "fig = plt.figure(figsize=(10,4))\n",
    "\n",
    "ax = fig.add_subplot(1,2,1)\n",
    "plt.plot(t,w, '.-',color='pink')\n",
    "\n",
    "plt.title('Numerical Solution h=%s'%(h))\n",
    "\n",
    "\n",
    "ax = fig.add_subplot(1,2,2)\n",
    "plt.plot(t,y-z, '.',color='blue')\n",
    "plt.title('Error')\n",
    "\n",
    "fig.suptitle(r\"$y'=4y^2-sin(3y),   y(0)=%s$\"%(IC)\n",
    "             \n",
    "             , fontsize=20)\n",
    "\n",
    "\n",
    "plt.tight_layout()\n",
    "plt.subplots_adjust(top=0.85) "
   ]
  }
 ],
 "metadata": {
  "kernelspec": {
   "display_name": "Python 3 (ipykernel)",
   "language": "python",
   "name": "python3"
  },
  "language_info": {
   "codemirror_mode": {
    "name": "ipython",
    "version": 3
   },
   "file_extension": ".py",
   "mimetype": "text/x-python",
   "name": "python",
   "nbconvert_exporter": "python",
   "pygments_lexer": "ipython3",
   "version": "3.8.10"
  }
 },
 "nbformat": 4,
 "nbformat_minor": 5
}
